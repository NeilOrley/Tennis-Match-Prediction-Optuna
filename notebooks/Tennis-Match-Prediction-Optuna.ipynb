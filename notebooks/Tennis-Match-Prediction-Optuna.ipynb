{
 "cells": [
  {
   "cell_type": "markdown",
   "id": "3df89b9d",
   "metadata": {},
   "source": [
    "# Tennis Match Prediction with Optuna"
   ]
  },
  {
   "cell_type": "markdown",
   "id": "43183b8e",
   "metadata": {},
   "source": [
    "## Match parameters"
   ]
  },
  {
   "cell_type": "markdown",
   "id": "ded156cd",
   "metadata": {},
   "source": [
    "✅ Données d’entrée nécessaires\n",
    "Voici les caractéristiques essentielles (features) à fournir pour chaque match :\n",
    "\n",
    "|Variable|\tType|\tDescription|\n",
    "| --- | --- | --- |\n",
    "|Rank_1|\tint|\tClassement ATP de Player_1|\n",
    "|Rank_2|\tint|\tClassement ATP de Player_2|\n",
    "|Pts_1|\tint|\tPoints ATP de Player_1|\n",
    "|Pts_2|\tint|\tPoints ATP de Player_2|\n",
    "|Odd_1|\tfloat|\tCote pré-match de Player_1 (optionnelle mais utile)|\n",
    "|Odd_2|\tfloat|\tCote pré-match de Player_2|\n",
    "|Surface|\tstr|\tSurface du match (Hard, Clay, Grass)|\n",
    "|Round|\tstr|\tTour du match (1st Round, Quarterfinal, etc.)|\n",
    "|Best of|\tint|\tNombre de sets gagnants (3 ou 5)|\n",
    "|Court|\tstr|\tIndoor / Outdoor|"
   ]
  },
  {
   "cell_type": "code",
   "execution_count": 1,
   "id": "fa989924",
   "metadata": {},
   "outputs": [],
   "source": [
    "exemple_match = {\n",
    "    \"Rank_1\": 15,\n",
    "    \"Rank_2\": 441,\n",
    "    \"Pts_1\": 2745,\n",
    "    \"Pts_2\": 105,\n",
    "    \"Odd_1\": 1.10,\n",
    "    \"Odd_2\": 6.75,\n",
    "    \"Surface\": \"Hard\",\n",
    "    \"Round\": \"2nd Round\",\n",
    "    \"Best of\": 3,\n",
    "    \"Court\": \"Outdoor\"\n",
    "}"
   ]
  },
  {
   "cell_type": "markdown",
   "id": "307c0101",
   "metadata": {},
   "source": [
    "## Install librairies"
   ]
  },
  {
   "cell_type": "code",
   "execution_count": 2,
   "id": "86774a26",
   "metadata": {},
   "outputs": [
    {
     "name": "stdout",
     "output_type": "stream",
     "text": [
      "Requirement already satisfied: joblib==1.2.0 in c:\\users\\n.orley\\appdata\\local\\programs\\python\\python39\\lib\\site-packages (from -r requirements.txt (line 1)) (1.2.0)Note: you may need to restart the kernel to use updated packages.\n"
     ]
    },
    {
     "name": "stderr",
     "output_type": "stream",
     "text": [
      "\n",
      "[notice] A new release of pip is available: 23.2.1 -> 25.0.1\n",
      "[notice] To update, run: python.exe -m pip install --upgrade pip\n"
     ]
    },
    {
     "name": "stdout",
     "output_type": "stream",
     "text": [
      "\n",
      "Requirement already satisfied: matplotlib==3.5.1 in c:\\users\\n.orley\\appdata\\local\\programs\\python\\python39\\lib\\site-packages (from -r requirements.txt (line 2)) (3.5.1)\n",
      "Requirement already satisfied: optuna==4.2.1 in c:\\users\\n.orley\\appdata\\local\\programs\\python\\python39\\lib\\site-packages (from -r requirements.txt (line 3)) (4.2.1)\n",
      "Requirement already satisfied: pandas==2.0.3 in c:\\users\\n.orley\\appdata\\local\\programs\\python\\python39\\lib\\site-packages (from -r requirements.txt (line 4)) (2.0.3)\n",
      "Requirement already satisfied: scikit-learn==1.6.1 in c:\\users\\n.orley\\appdata\\local\\programs\\python\\python39\\lib\\site-packages (from -r requirements.txt (line 5)) (1.6.1)\n",
      "Requirement already satisfied: cycler>=0.10 in c:\\users\\n.orley\\appdata\\local\\programs\\python\\python39\\lib\\site-packages (from matplotlib==3.5.1->-r requirements.txt (line 2)) (0.11.0)\n",
      "Requirement already satisfied: fonttools>=4.22.0 in c:\\users\\n.orley\\appdata\\local\\programs\\python\\python39\\lib\\site-packages (from matplotlib==3.5.1->-r requirements.txt (line 2)) (4.38.0)\n",
      "Requirement already satisfied: kiwisolver>=1.0.1 in c:\\users\\n.orley\\appdata\\local\\programs\\python\\python39\\lib\\site-packages (from matplotlib==3.5.1->-r requirements.txt (line 2)) (1.4.4)\n",
      "Requirement already satisfied: numpy>=1.17 in c:\\users\\n.orley\\appdata\\local\\programs\\python\\python39\\lib\\site-packages (from matplotlib==3.5.1->-r requirements.txt (line 2)) (1.25.2)\n",
      "Requirement already satisfied: packaging>=20.0 in c:\\users\\n.orley\\appdata\\local\\programs\\python\\python39\\lib\\site-packages (from matplotlib==3.5.1->-r requirements.txt (line 2)) (23.0)\n",
      "Requirement already satisfied: pillow>=6.2.0 in c:\\users\\n.orley\\appdata\\local\\programs\\python\\python39\\lib\\site-packages (from matplotlib==3.5.1->-r requirements.txt (line 2)) (9.3.0)\n",
      "Requirement already satisfied: pyparsing>=2.2.1 in c:\\users\\n.orley\\appdata\\local\\programs\\python\\python39\\lib\\site-packages (from matplotlib==3.5.1->-r requirements.txt (line 2)) (3.0.9)\n",
      "Requirement already satisfied: python-dateutil>=2.7 in c:\\users\\n.orley\\appdata\\local\\programs\\python\\python39\\lib\\site-packages (from matplotlib==3.5.1->-r requirements.txt (line 2)) (2.8.2)\n",
      "Requirement already satisfied: alembic>=1.5.0 in c:\\users\\n.orley\\appdata\\local\\programs\\python\\python39\\lib\\site-packages (from optuna==4.2.1->-r requirements.txt (line 3)) (1.15.1)\n",
      "Requirement already satisfied: colorlog in c:\\users\\n.orley\\appdata\\local\\programs\\python\\python39\\lib\\site-packages (from optuna==4.2.1->-r requirements.txt (line 3)) (6.9.0)\n",
      "Requirement already satisfied: sqlalchemy>=1.4.2 in c:\\users\\n.orley\\appdata\\local\\programs\\python\\python39\\lib\\site-packages (from optuna==4.2.1->-r requirements.txt (line 3)) (1.4.15)\n",
      "Requirement already satisfied: tqdm in c:\\users\\n.orley\\appdata\\local\\programs\\python\\python39\\lib\\site-packages (from optuna==4.2.1->-r requirements.txt (line 3)) (4.62.3)\n",
      "Requirement already satisfied: PyYAML in c:\\users\\n.orley\\appdata\\local\\programs\\python\\python39\\lib\\site-packages (from optuna==4.2.1->-r requirements.txt (line 3)) (6.0)\n",
      "Requirement already satisfied: pytz>=2020.1 in c:\\users\\n.orley\\appdata\\local\\programs\\python\\python39\\lib\\site-packages (from pandas==2.0.3->-r requirements.txt (line 4)) (2022.6)\n",
      "Requirement already satisfied: tzdata>=2022.1 in c:\\users\\n.orley\\appdata\\local\\programs\\python\\python39\\lib\\site-packages (from pandas==2.0.3->-r requirements.txt (line 4)) (2022.6)\n",
      "Requirement already satisfied: scipy>=1.6.0 in c:\\users\\n.orley\\appdata\\local\\programs\\python\\python39\\lib\\site-packages (from scikit-learn==1.6.1->-r requirements.txt (line 5)) (1.10.0)\n",
      "Requirement already satisfied: threadpoolctl>=3.1.0 in c:\\users\\n.orley\\appdata\\local\\programs\\python\\python39\\lib\\site-packages (from scikit-learn==1.6.1->-r requirements.txt (line 5)) (3.1.0)\n",
      "Requirement already satisfied: Mako in c:\\users\\n.orley\\appdata\\local\\programs\\python\\python39\\lib\\site-packages (from alembic>=1.5.0->optuna==4.2.1->-r requirements.txt (line 3)) (1.3.9)\n",
      "Requirement already satisfied: typing-extensions>=4.12 in c:\\users\\n.orley\\appdata\\local\\programs\\python\\python39\\lib\\site-packages (from alembic>=1.5.0->optuna==4.2.1->-r requirements.txt (line 3)) (4.12.2)\n",
      "Requirement already satisfied: six>=1.5 in c:\\users\\n.orley\\appdata\\local\\programs\\python\\python39\\lib\\site-packages (from python-dateutil>=2.7->matplotlib==3.5.1->-r requirements.txt (line 2)) (1.16.0)\n",
      "Requirement already satisfied: greenlet!=0.4.17 in c:\\users\\n.orley\\appdata\\local\\programs\\python\\python39\\lib\\site-packages (from sqlalchemy>=1.4.2->optuna==4.2.1->-r requirements.txt (line 3)) (2.0.0)\n",
      "Requirement already satisfied: colorama in c:\\users\\n.orley\\appdata\\local\\programs\\python\\python39\\lib\\site-packages (from colorlog->optuna==4.2.1->-r requirements.txt (line 3)) (0.4.6)\n",
      "Requirement already satisfied: MarkupSafe>=0.9.2 in c:\\users\\n.orley\\appdata\\local\\programs\\python\\python39\\lib\\site-packages (from Mako->alembic>=1.5.0->optuna==4.2.1->-r requirements.txt (line 3)) (2.1.1)\n"
     ]
    }
   ],
   "source": [
    "pip install -r requirements.txt"
   ]
  },
  {
   "cell_type": "markdown",
   "id": "5232b818",
   "metadata": {},
   "source": [
    "## Data Acquisition"
   ]
  },
  {
   "cell_type": "code",
   "execution_count": 3,
   "id": "2e95a10a",
   "metadata": {},
   "outputs": [
    {
     "name": "stdout",
     "output_type": "stream",
     "text": [
      "615 matchs conservés (joués dans les 3 derniers mois).\n",
      "619 matchs conservés (joués dans les 3 derniers mois).\n"
     ]
    }
   ],
   "source": [
    "import csv\n",
    "from datetime import datetime, timedelta\n",
    "\n",
    "def parse_date_flexible(date_str):\n",
    "    \"\"\"Essaie plusieurs formats de date.\"\"\"\n",
    "    for fmt in ('%Y-%m-%d %H:%M:%S', '%Y-%m-%d', '%d/%m/%Y %H:%M', '%d/%m/%Y'):\n",
    "        try:\n",
    "            return datetime.strptime(date_str.strip(), fmt)\n",
    "        except ValueError:\n",
    "            continue\n",
    "    return None\n",
    "\n",
    "def filtrer_et_normaliser_matchs(fichier_entree, fichier_sortie):\n",
    "    maintenant = datetime.now()\n",
    "    trois_mois = timedelta(days=90)\n",
    "    matchs_conserves = 0\n",
    "\n",
    "    with open(fichier_entree, mode='r', encoding='utf-8') as infile, \\\n",
    "         open(fichier_sortie, mode='w', newline='', encoding='utf-8') as outfile:\n",
    "        \n",
    "        lecteur = csv.DictReader(infile, delimiter=',')\n",
    "        champs = lecteur.fieldnames\n",
    "        ecrivain = csv.DictWriter(outfile, fieldnames=champs, delimiter=',')\n",
    "        ecrivain.writeheader()\n",
    "\n",
    "        for ligne in lecteur:\n",
    "            date_str = ligne.get('Date', '')\n",
    "            date_match = parse_date_flexible(date_str)\n",
    "            if date_match and (maintenant - date_match <= trois_mois):\n",
    "                # Normalisation de la date\n",
    "                ligne['Date'] = date_match.strftime('%Y-%m-%d %H:%M:%S')\n",
    "                ecrivain.writerow(ligne)\n",
    "                matchs_conserves += 1\n",
    "\n",
    "    print(f\"{matchs_conserves} matchs conservés (joués dans les 3 derniers mois).\")\n",
    "\n",
    "\n",
    "# Extraction des matchs ATP des 3 derniers mois\n",
    "filtrer_et_normaliser_matchs('../data/atp_tennis.csv', '../data/matches_atp_3_derniers_mois.csv')\n",
    "\n",
    "# Extraction des matchs WTA des 3 derniers mois\n",
    "filtrer_et_normaliser_matchs('../data/wta.csv', '../data/matches_wta_3_derniers_mois.csv')\n"
   ]
  },
  {
   "cell_type": "markdown",
   "id": "aa5cd3b0",
   "metadata": {},
   "source": [
    "#### Custom Data Extraction Functions"
   ]
  },
  {
   "cell_type": "markdown",
   "id": "0a49c79b",
   "metadata": {},
   "source": [
    "#### Applying Functions"
   ]
  },
  {
   "cell_type": "markdown",
   "id": "7df292b1",
   "metadata": {},
   "source": [
    "## Machine Learning"
   ]
  },
  {
   "cell_type": "markdown",
   "id": "783c27e9",
   "metadata": {},
   "source": [
    "### Import des librairies et chargement des données"
   ]
  },
  {
   "cell_type": "code",
   "execution_count": 4,
   "id": "1f483d68",
   "metadata": {},
   "outputs": [],
   "source": [
    "import pandas as pd\n",
    "import matplotlib.pyplot as plt\n",
    "from sklearn.model_selection import train_test_split, GridSearchCV\n",
    "from sklearn.pipeline import Pipeline\n",
    "from sklearn.compose import ColumnTransformer\n",
    "from sklearn.preprocessing import StandardScaler, OneHotEncoder\n",
    "from sklearn.metrics import accuracy_score, roc_auc_score\n",
    "from sklearn.linear_model import LogisticRegression\n",
    "from sklearn.tree import DecisionTreeClassifier\n",
    "from sklearn.svm import SVC\n",
    "from sklearn.ensemble import RandomForestClassifier\n",
    "import joblib\n",
    "\n",
    "### 1. Chargement des données\n",
    "df = pd.read_csv(\"../data/matches_atp_3_derniers_mois.csv\")\n"
   ]
  },
  {
   "cell_type": "markdown",
   "id": "a592bddb",
   "metadata": {},
   "source": [
    "### Ajout de données dans le df"
   ]
  },
  {
   "cell_type": "code",
   "execution_count": 5,
   "id": "6a15425f",
   "metadata": {},
   "outputs": [],
   "source": [
    "import re\n",
    "\n",
    "def count_total_games(score_str):\n",
    "    if pd.isna(score_str):\n",
    "        return None\n",
    "    sets = re.findall(r'(\\d+)-(\\d+)', score_str)\n",
    "    total_games = sum(int(a) + int(b) for a, b in sets)\n",
    "    return total_games\n",
    "\n",
    "df['Total_Games'] = df['Score'].apply(count_total_games)\n",
    "df = df.dropna(subset=['Total_Games'])  # utile pour la régression"
   ]
  },
  {
   "cell_type": "markdown",
   "id": "b02bbf17",
   "metadata": {},
   "source": [
    "### Nettoyage & définition des colonnes"
   ]
  },
  {
   "cell_type": "code",
   "execution_count": 6,
   "id": "769568c6",
   "metadata": {},
   "outputs": [],
   "source": [
    "\n",
    "### 2. Nettoyage\n",
    "\n",
    "df = df.dropna(subset=[\n",
    "    'Rank_1', 'Rank_2', 'Pts_1', 'Pts_2',\n",
    "    'Odd_1', 'Odd_2', 'Surface', 'Round', 'Best of', 'Court'\n",
    "])\n",
    "df['Winner_encoded'] = (df['Winner'] == df['Player_1']).astype(int)\n",
    "\n",
    "### 3. Définition des colonnes\n",
    "\n",
    "numeric_features = ['Rank_1', 'Rank_2', 'Pts_1', 'Pts_2', 'Odd_1', 'Odd_2', 'Best of']\n",
    "categorical_features = ['Surface', 'Round', 'Court']\n",
    "all_features = numeric_features + categorical_features\n",
    "\n",
    "X = df[all_features]\n",
    "y = df['Winner_encoded']"
   ]
  },
  {
   "cell_type": "markdown",
   "id": "e6b6fca6",
   "metadata": {},
   "source": [
    "### Split, Preprocessing & Modèles"
   ]
  },
  {
   "cell_type": "code",
   "execution_count": 7,
   "id": "717f84eb",
   "metadata": {},
   "outputs": [],
   "source": [
    "### 4. Split\n",
    "X_train, X_test, y_train, y_test = train_test_split(X, y, test_size=0.2, random_state=42)\n",
    "\n",
    "### 5. Preprocessing\n",
    "preprocessor = ColumnTransformer(transformers=[\n",
    "    ('num', StandardScaler(), numeric_features),\n",
    "    ('cat', OneHotEncoder(handle_unknown='ignore'), categorical_features)\n",
    "])\n",
    "\n",
    "### 6. Modèles\n",
    "models = {\n",
    "    \"LogisticRegression\": (\n",
    "        Pipeline([(\"preprocessor\", preprocessor),\n",
    "                  (\"clf\", LogisticRegression(max_iter=1000))]),\n",
    "        {\"clf__C\": [0.01, 0.1, 1, 10]}\n",
    "    ),\n",
    "    \"DecisionTree\": (\n",
    "        Pipeline([(\"preprocessor\", preprocessor),\n",
    "                  (\"clf\", DecisionTreeClassifier(random_state=42))]),\n",
    "        {\"clf__max_depth\": [3, 5, 10], \"clf__min_samples_split\": [2, 5, 10]}\n",
    "    ),\n",
    "    \"SVM\": (\n",
    "        Pipeline([(\"preprocessor\", preprocessor),\n",
    "                  (\"clf\", SVC(probability=True))]),\n",
    "        {\"clf__C\": [0.1, 1, 10], \"clf__kernel\": ['linear', 'rbf']}\n",
    "    ),\n",
    "    \"RandomForest\": (\n",
    "        Pipeline([(\"preprocessor\", preprocessor),\n",
    "                  (\"clf\", RandomForestClassifier(random_state=42))]),\n",
    "        {\"clf__n_estimators\": [50, 100], \"clf__max_depth\": [5, 10, None]}\n",
    "    )\n",
    "}"
   ]
  },
  {
   "cell_type": "markdown",
   "id": "dbef42b5",
   "metadata": {},
   "source": [
    "### Entraînement + évaluation & Sauvegarde du modèle"
   ]
  },
  {
   "cell_type": "code",
   "execution_count": 8,
   "id": "b527ec48",
   "metadata": {},
   "outputs": [
    {
     "name": "stdout",
     "output_type": "stream",
     "text": [
      "\n",
      "🔍 Training LogisticRegression...\n",
      "✅ Best Params: {'clf__C': 0.1}\n",
      "📊 Accuracy: 0.699\n",
      "📈 ROC AUC: 0.789\n",
      "\n",
      "🔍 Training DecisionTree...\n",
      "✅ Best Params: {'clf__max_depth': 3, 'clf__min_samples_split': 2}\n",
      "📊 Accuracy: 0.642\n",
      "📈 ROC AUC: 0.763\n",
      "\n",
      "🔍 Training SVM...\n",
      "✅ Best Params: {'clf__C': 0.1, 'clf__kernel': 'linear'}\n",
      "📊 Accuracy: 0.699\n",
      "📈 ROC AUC: 0.789\n",
      "\n",
      "🔍 Training RandomForest...\n",
      "✅ Best Params: {'clf__max_depth': 5, 'clf__n_estimators': 100}\n",
      "📊 Accuracy: 0.675\n",
      "📈 ROC AUC: 0.752\n"
     ]
    },
    {
     "data": {
      "text/plain": [
       "['../models/tennis_win_predictor.pkl']"
      ]
     },
     "execution_count": 8,
     "metadata": {},
     "output_type": "execute_result"
    }
   ],
   "source": [
    "### 7. Entraînement + évaluation\n",
    "results = []\n",
    "best_global_model = None\n",
    "best_global_score = 0\n",
    "\n",
    "for name, (model, params) in models.items():\n",
    "    print(f\"\\n🔍 Training {name}...\")\n",
    "    grid = GridSearchCV(model, params, cv=5, scoring='roc_auc', n_jobs=-1)\n",
    "    grid.fit(X_train, y_train)\n",
    "\n",
    "    best_model = grid.best_estimator_\n",
    "    y_pred = best_model.predict(X_test)\n",
    "    y_proba = best_model.predict_proba(X_test)[:, 1]\n",
    "\n",
    "    acc = accuracy_score(y_test, y_pred)\n",
    "    auc = roc_auc_score(y_test, y_proba)\n",
    "\n",
    "    print(f\"✅ Best Params: {grid.best_params_}\")\n",
    "    print(f\"📊 Accuracy: {acc:.3f}\")\n",
    "    print(f\"📈 ROC AUC: {auc:.3f}\")\n",
    "\n",
    "    results.append({\n",
    "        \"Modèle\": name,\n",
    "        \"Accuracy\": acc,\n",
    "        \"ROC AUC\": auc,\n",
    "        \"Best Params\": grid.best_params_\n",
    "    })\n",
    "\n",
    "    if auc > best_global_score:\n",
    "        best_global_model = best_model\n",
    "        best_global_score = auc\n",
    "\n",
    "### 8. Sauvegarde du meilleur modèle\n",
    "joblib.dump(best_global_model, \"../models/tennis_win_predictor.pkl\")"
   ]
  },
  {
   "cell_type": "markdown",
   "id": "e08a6da8",
   "metadata": {},
   "source": [
    "### Résumé et visualisation"
   ]
  },
  {
   "cell_type": "code",
   "execution_count": 9,
   "id": "2bc06df4",
   "metadata": {},
   "outputs": [
    {
     "name": "stdout",
     "output_type": "stream",
     "text": [
      "\n",
      "📊 Résultats comparatifs :\n",
      "               Modèle  Accuracy   ROC AUC  \\\n",
      "0  LogisticRegression  0.699187  0.789305   \n",
      "2                 SVM  0.699187  0.788503   \n",
      "1        DecisionTree  0.642276  0.763369   \n",
      "3        RandomForest  0.674797  0.751604   \n",
      "\n",
      "                                         Best Params  \n",
      "0                                    {'clf__C': 0.1}  \n",
      "2           {'clf__C': 0.1, 'clf__kernel': 'linear'}  \n",
      "1  {'clf__max_depth': 3, 'clf__min_samples_split'...  \n",
      "3    {'clf__max_depth': 5, 'clf__n_estimators': 100}  \n"
     ]
    },
    {
     "data": {
      "image/png": "[encoded data removed]",
      "text/plain": [
       "<Figure size 1000x500 with 2 Axes>"
      ]
     },
     "metadata": {},
     "output_type": "display_data"
    }
   ],
   "source": [
    "### 9. Résumé & visualisation\n",
    "results_df = pd.DataFrame(results)\n",
    "print(\"\\n📊 Résultats comparatifs :\")\n",
    "print(results_df.sort_values(by=\"ROC AUC\", ascending=False))\n",
    "\n",
    "plt.figure(figsize=(10, 5))\n",
    "plt.subplot(1, 2, 1)\n",
    "plt.bar(results_df[\"Modèle\"], results_df[\"Accuracy\"])\n",
    "plt.title(\"Accuracy par modèle\")\n",
    "plt.ylabel(\"Accuracy\")\n",
    "plt.xticks(rotation=45)\n",
    "\n",
    "plt.subplot(1, 2, 2)\n",
    "plt.bar(results_df[\"Modèle\"], results_df[\"ROC AUC\"], color='orange')\n",
    "plt.title(\"ROC AUC par modèle\")\n",
    "plt.ylabel(\"ROC AUC\")\n",
    "plt.xticks(rotation=45)\n",
    "\n",
    "plt.tight_layout()\n",
    "plt.show()"
   ]
  },
  {
   "cell_type": "markdown",
   "id": "faeaa924",
   "metadata": {},
   "source": [
    "### Entraine uin modèle de régression pour le nombre de jeux du match"
   ]
  },
  {
   "cell_type": "code",
   "execution_count": 10,
   "id": "6167a899",
   "metadata": {},
   "outputs": [
    {
     "name": "stdout",
     "output_type": "stream",
     "text": [
      "\n",
      "📈 Évaluation des modèles de régression (total de jeux) :\n",
      "\n",
      "🔹 RandomForest\n",
      "  🔸 MSE  : 48.71\n",
      "  🔸 MAE  : 5.72\n",
      "  🔸 R²   : 0.237\n",
      "\n"
     ]
    },
    {
     "name": "stderr",
     "output_type": "stream",
     "text": [
      "c:\\Users\\N.ORLEY\\AppData\\Local\\Programs\\Python\\Python39\\lib\\site-packages\\joblib\\externals\\loky\\backend\\context.py:110: UserWarning: Could not find the number of physical cores for the following reason:\n",
      "found 0 physical cores < 1\n",
      "Returning the number of logical cores instead. You can silence this warning by setting LOKY_MAX_CPU_COUNT to the number of cores you want to use.\n",
      "  warnings.warn(\n",
      "  File \"c:\\Users\\N.ORLEY\\AppData\\Local\\Programs\\Python\\Python39\\lib\\site-packages\\joblib\\externals\\loky\\backend\\context.py\", line 217, in _count_physical_cores\n",
      "    raise ValueError(\n"
     ]
    },
    {
     "name": "stdout",
     "output_type": "stream",
     "text": [
      "🔹 HistGradientBoosting\n",
      "  🔸 MSE  : 50.17\n",
      "  🔸 MAE  : 5.68\n",
      "  🔸 R²   : 0.215\n",
      "\n",
      "🔹 LinearRegression\n",
      "  🔸 MSE  : 39.81\n",
      "  🔸 MAE  : 5.26\n",
      "  🔸 R²   : 0.377\n",
      "\n",
      "🔹 Ridge\n",
      "  🔸 MSE  : 39.86\n",
      "  🔸 MAE  : 5.26\n",
      "  🔸 R²   : 0.376\n",
      "\n",
      "🔹 MLP\n",
      "  🔸 MSE  : 44.56\n",
      "  🔸 MAE  : 5.50\n",
      "  🔸 R²   : 0.302\n",
      "\n",
      "💾 Sauvegarde du meilleur modèle de régression : LinearRegression\n"
     ]
    },
    {
     "name": "stderr",
     "output_type": "stream",
     "text": [
      "c:\\Users\\N.ORLEY\\AppData\\Local\\Programs\\Python\\Python39\\lib\\site-packages\\sklearn\\neural_network\\_multilayer_perceptron.py:691: ConvergenceWarning: Stochastic Optimizer: Maximum iterations (1000) reached and the optimization hasn't converged yet.\n",
      "  warnings.warn(\n"
     ]
    },
    {
     "data": {
      "text/plain": [
       "['../models/tennis_total_games_predictor.pkl']"
      ]
     },
     "execution_count": 10,
     "metadata": {},
     "output_type": "execute_result"
    }
   ],
   "source": [
    "from sklearn.ensemble import RandomForestRegressor, HistGradientBoostingRegressor\n",
    "from sklearn.linear_model import LinearRegression, Ridge\n",
    "from sklearn.neural_network import MLPRegressor\n",
    "from sklearn.metrics import mean_squared_error, mean_absolute_error, r2_score\n",
    "from sklearn.pipeline import Pipeline\n",
    "\n",
    "# 📌 On suppose que df['Total_Games'] est déjà calculé\n",
    "X_games = df[all_features]  # mêmes features que pour la classification\n",
    "y_games = df['Total_Games']\n",
    "\n",
    "Xg_train, Xg_test, yg_train, yg_test = train_test_split(X_games, y_games, test_size=0.2, random_state=42)\n",
    "\n",
    "# 📦 Modèles à tester\n",
    "regression_models = {\n",
    "    \"RandomForest\": Pipeline([\n",
    "        (\"preprocessor\", preprocessor),\n",
    "        (\"reg\", RandomForestRegressor(n_estimators=100, max_depth=10, random_state=42))\n",
    "    ]),\n",
    "    \"HistGradientBoosting\": Pipeline([\n",
    "        (\"preprocessor\", preprocessor),\n",
    "        (\"reg\", HistGradientBoostingRegressor(max_iter=100, max_depth=10, random_state=42))\n",
    "    ]),\n",
    "    \"LinearRegression\": Pipeline([\n",
    "        (\"preprocessor\", preprocessor),\n",
    "        (\"reg\", LinearRegression())\n",
    "    ]),\n",
    "    \"Ridge\": Pipeline([\n",
    "        (\"preprocessor\", preprocessor),\n",
    "        (\"reg\", Ridge(alpha=1.0))\n",
    "    ]),\n",
    "    \"MLP\": Pipeline([\n",
    "        (\"preprocessor\", preprocessor),\n",
    "        (\"reg\", MLPRegressor(hidden_layer_sizes=(64, 32), max_iter=1000, random_state=42))\n",
    "    ])\n",
    "}\n",
    "\n",
    "# 🔍 Évaluation des modèles\n",
    "regression_results = []\n",
    "\n",
    "print(\"\\n📈 Évaluation des modèles de régression (total de jeux) :\\n\")\n",
    "\n",
    "for name, model in regression_models.items():\n",
    "    model.fit(Xg_train, yg_train)\n",
    "    yg_pred = model.predict(Xg_test)\n",
    "\n",
    "    mse = mean_squared_error(yg_test, yg_pred)\n",
    "    mae = mean_absolute_error(yg_test, yg_pred)\n",
    "    r2 = r2_score(yg_test, yg_pred)\n",
    "\n",
    "    print(f\"🔹 {name}\")\n",
    "    print(f\"  🔸 MSE  : {mse:.2f}\")\n",
    "    print(f\"  🔸 MAE  : {mae:.2f}\")\n",
    "    print(f\"  🔸 R²   : {r2:.3f}\\n\")\n",
    "\n",
    "    regression_results.append({\n",
    "        \"Modèle\": name,\n",
    "        \"MSE\": mse,\n",
    "        \"MAE\": mae,\n",
    "        \"R2\": r2\n",
    "    })\n",
    "\n",
    "# 🔁 Sauvegarde du meilleur modèle de régression\n",
    "best_reg_model_name = max(regression_results, key=lambda x: x[\"R2\"])[\"Modèle\"]\n",
    "best_reg_model = regression_models[best_reg_model_name]\n",
    "\n",
    "print(f\"💾 Sauvegarde du meilleur modèle de régression : {best_reg_model_name}\")\n",
    "joblib.dump(best_reg_model, \"../models/tennis_total_games_predictor.pkl\")\n",
    "\n"
   ]
  },
  {
   "cell_type": "markdown",
   "id": "4ffd4717",
   "metadata": {},
   "source": [
    "### 🔮 Fonctions de prédiction"
   ]
  },
  {
   "cell_type": "code",
   "execution_count": 11,
   "id": "c2666faa",
   "metadata": {},
   "outputs": [],
   "source": [
    "### 10. 🔮 Prédiction sur un match à partir d’un dictionnaire\n",
    "def predict_match_proba(input_dict, model_path=\"../models/tennis_win_predictor.pkl\"):\n",
    "    model = joblib.load(model_path)\n",
    "    X_input = pd.DataFrame([input_dict])\n",
    "    prob = model.predict_proba(X_input)[0]\n",
    "    return {\n",
    "        \"Probabilité victoire Player_1\": round(prob[1], 4),\n",
    "        \"Probabilité victoire Player_2\": round(prob[0], 4)\n",
    "    }\n",
    "\n",
    "### 10. 🔮 Prédiction du nombre de jeux\n",
    "def predict_total_games(input_dict, model_path=\"../models/tennis_total_games_predictor.pkl\"):\n",
    "    model = joblib.load(model_path)\n",
    "    X_input = pd.DataFrame([input_dict])\n",
    "    return round(model.predict(X_input)[0])\n"
   ]
  },
  {
   "cell_type": "markdown",
   "id": "48b7ba55",
   "metadata": {},
   "source": [
    "### Hyperparameters Tuning avec Optuna"
   ]
  },
  {
   "cell_type": "code",
   "execution_count": 12,
   "id": "20d56d1d",
   "metadata": {},
   "outputs": [
    {
     "name": "stderr",
     "output_type": "stream",
     "text": [
      "[I 2025-03-21 16:58:19,057] A new study created in memory with name: no-name-fa158088-0b07-4960-98f7-5c6c8577e0a1\n"
     ]
    },
    {
     "name": "stdout",
     "output_type": "stream",
     "text": [
      "\n",
      "🎯 Lancement de l'optimisation Optuna pour la régression...\n"
     ]
    },
    {
     "name": "stderr",
     "output_type": "stream",
     "text": [
      "[I 2025-03-21 16:58:23,794] Trial 0 finished with value: 0.30720146759285333 and parameters: {'max_iter': 841, 'max_depth': 14, 'learning_rate': 0.05013567353551249, 'l2_regularization': 0.00030359140826772684}. Best is trial 0 with value: 0.30720146759285333.\n",
      "[I 2025-03-21 16:58:24,573] Trial 1 finished with value: 0.4226479805951004 and parameters: {'max_iter': 165, 'max_depth': 7, 'learning_rate': 0.044123540760168264, 'l2_regularization': 0.0009700954368270876}. Best is trial 1 with value: 0.4226479805951004.\n",
      "[I 2025-03-21 16:58:26,006] Trial 2 finished with value: 0.29879089421813354 and parameters: {'max_iter': 252, 'max_depth': 18, 'learning_rate': 0.18953403717049266, 'l2_regularization': 0.8644517343675545}. Best is trial 1 with value: 0.4226479805951004.\n",
      "[I 2025-03-21 16:58:27,206] Trial 3 finished with value: 0.46040585753887653 and parameters: {'max_iter': 329, 'max_depth': 3, 'learning_rate': 0.010955614828875833, 'l2_regularization': 0.0019445950474776509}. Best is trial 3 with value: 0.46040585753887653.\n",
      "[I 2025-03-21 16:58:27,856] Trial 4 finished with value: 0.4326362648899266 and parameters: {'max_iter': 131, 'max_depth': 7, 'learning_rate': 0.04739709270479052, 'l2_regularization': 0.050379409679994}. Best is trial 3 with value: 0.46040585753887653.\n",
      "[I 2025-03-21 16:58:30,773] Trial 5 finished with value: 0.3963090211935173 and parameters: {'max_iter': 549, 'max_depth': 20, 'learning_rate': 0.02107917588885123, 'l2_regularization': 0.22312208177453155}. Best is trial 3 with value: 0.46040585753887653.\n",
      "[I 2025-03-21 16:58:34,023] Trial 6 finished with value: 0.40591807638537913 and parameters: {'max_iter': 602, 'max_depth': 10, 'learning_rate': 0.014744642813470545, 'l2_regularization': 0.010933544566126194}. Best is trial 3 with value: 0.46040585753887653.\n",
      "[I 2025-03-21 16:58:35,573] Trial 7 finished with value: 0.27913498793568314 and parameters: {'max_iter': 279, 'max_depth': 19, 'learning_rate': 0.21662458349373803, 'l2_regularization': 0.0036193753011819437}. Best is trial 3 with value: 0.46040585753887653.\n",
      "[I 2025-03-21 16:58:39,657] Trial 8 finished with value: 0.2584735807924968 and parameters: {'max_iter': 716, 'max_depth': 20, 'learning_rate': 0.14703207779612648, 'l2_regularization': 0.013404615539021681}. Best is trial 3 with value: 0.46040585753887653.\n",
      "[I 2025-03-21 16:58:44,373] Trial 9 finished with value: 0.276337878939469 and parameters: {'max_iter': 708, 'max_depth': 20, 'learning_rate': 0.16047037030139585, 'l2_regularization': 0.0010194949702333313}. Best is trial 3 with value: 0.46040585753887653.\n",
      "[I 2025-03-21 16:58:45,598] Trial 10 finished with value: 0.4604168421134679 and parameters: {'max_iter': 384, 'max_depth': 3, 'learning_rate': 0.010124417970866847, 'l2_regularization': 0.00014332362119839185}. Best is trial 10 with value: 0.4604168421134679.\n",
      "[I 2025-03-21 16:58:46,923] Trial 11 finished with value: 0.45785594059267326 and parameters: {'max_iter': 411, 'max_depth': 3, 'learning_rate': 0.010778860618047304, 'l2_regularization': 0.00011995968180971327}. Best is trial 10 with value: 0.4604168421134679.\n",
      "[I 2025-03-21 16:58:48,472] Trial 12 finished with value: 0.43473663230377485 and parameters: {'max_iter': 418, 'max_depth': 3, 'learning_rate': 0.019208346025820177, 'l2_regularization': 0.0001017313114611428}. Best is trial 10 with value: 0.4604168421134679.\n",
      "[I 2025-03-21 16:58:50,573] Trial 13 finished with value: 0.44559261282450713 and parameters: {'max_iter': 384, 'max_depth': 6, 'learning_rate': 0.010188387398090732, 'l2_regularization': 0.0013400517277171314}. Best is trial 10 with value: 0.4604168421134679.\n",
      "[I 2025-03-21 16:58:53,973] Trial 14 finished with value: 0.3785946648885533 and parameters: {'max_iter': 520, 'max_depth': 11, 'learning_rate': 0.027230067465126528, 'l2_regularization': 0.0003406873515933946}. Best is trial 10 with value: 0.4604168421134679.\n",
      "[I 2025-03-21 16:58:55,240] Trial 15 finished with value: 0.35015917693883214 and parameters: {'max_iter': 294, 'max_depth': 5, 'learning_rate': 0.09117293560809972, 'l2_regularization': 0.0038935497675323225}. Best is trial 10 with value: 0.4604168421134679.\n",
      "[I 2025-03-21 16:58:58,140] Trial 16 finished with value: 0.38131457848159056 and parameters: {'max_iter': 472, 'max_depth': 9, 'learning_rate': 0.03011180257446186, 'l2_regularization': 0.04493937784877394}. Best is trial 10 with value: 0.4604168421134679.\n",
      "[I 2025-03-21 16:59:00,357] Trial 17 finished with value: 0.43672437088364646 and parameters: {'max_iter': 328, 'max_depth': 14, 'learning_rate': 0.01462999829697675, 'l2_regularization': 0.0003206353342085287}. Best is trial 10 with value: 0.4604168421134679.\n",
      "[I 2025-03-21 16:59:03,607] Trial 18 finished with value: 0.29110425029939047 and parameters: {'max_iter': 959, 'max_depth': 4, 'learning_rate': 0.07830380865084473, 'l2_regularization': 0.0028945211075366182}. Best is trial 10 with value: 0.4604168421134679.\n",
      "[I 2025-03-21 16:59:04,907] Trial 19 finished with value: 0.4264434130513125 and parameters: {'max_iter': 205, 'max_depth': 8, 'learning_rate': 0.02993823548194442, 'l2_regularization': 0.0003543771283629912}. Best is trial 10 with value: 0.4604168421134679.\n",
      "[I 2025-03-21 16:59:08,840] Trial 20 finished with value: 0.40764188798885925 and parameters: {'max_iter': 610, 'max_depth': 13, 'learning_rate': 0.013742801150552814, 'l2_regularization': 0.025085332360264043}. Best is trial 10 with value: 0.4604168421134679.\n",
      "[I 2025-03-21 16:59:10,007] Trial 21 finished with value: 0.4607609971269957 and parameters: {'max_iter': 366, 'max_depth': 3, 'learning_rate': 0.010349523844108338, 'l2_regularization': 0.00010447656932113442}. Best is trial 21 with value: 0.4607609971269957.\n",
      "[I 2025-03-21 16:59:11,623] Trial 22 finished with value: 0.45316339208217793 and parameters: {'max_iter': 344, 'max_depth': 5, 'learning_rate': 0.01005257369182515, 'l2_regularization': 0.00016583736915785932}. Best is trial 21 with value: 0.4607609971269957.\n",
      "[I 2025-03-21 16:59:13,307] Trial 23 finished with value: 0.43139741724489084 and parameters: {'max_iter': 472, 'max_depth': 4, 'learning_rate': 0.018073417951442974, 'l2_regularization': 0.0007915452325045703}. Best is trial 21 with value: 0.4607609971269957.\n",
      "[I 2025-03-21 16:59:14,107] Trial 24 finished with value: 0.4598538591441551 and parameters: {'max_iter': 229, 'max_depth': 3, 'learning_rate': 0.013379529299910669, 'l2_regularization': 0.0019029302460455938}. Best is trial 21 with value: 0.4607609971269957.\n",
      "[I 2025-03-21 16:59:14,807] Trial 25 finished with value: 0.4469521346942903 and parameters: {'max_iter': 104, 'max_depth': 6, 'learning_rate': 0.02189260226847392, 'l2_regularization': 0.0005528648278247222}. Best is trial 21 with value: 0.4607609971269957.\n",
      "[I 2025-03-21 16:59:16,423] Trial 26 finished with value: 0.4484616613471795 and parameters: {'max_iter': 363, 'max_depth': 5, 'learning_rate': 0.012874841305237509, 'l2_regularization': 0.00017569971513403852}. Best is trial 21 with value: 0.4607609971269957.\n",
      "[I 2025-03-21 16:59:19,523] Trial 27 finished with value: 0.3675552303427126 and parameters: {'max_iter': 466, 'max_depth': 16, 'learning_rate': 0.03568773895408646, 'l2_regularization': 0.007561925618392153}. Best is trial 21 with value: 0.4607609971269957.\n",
      "[I 2025-03-21 16:59:22,923] Trial 28 finished with value: 0.30428591843433683 and parameters: {'max_iter': 632, 'max_depth': 8, 'learning_rate': 0.07336787131544749, 'l2_regularization': 0.0005626520934928281}. Best is trial 21 with value: 0.4607609971269957.\n",
      "[I 2025-03-21 16:59:23,723] Trial 29 finished with value: 0.298238195444376 and parameters: {'max_iter': 198, 'max_depth': 4, 'learning_rate': 0.29334510425476834, 'l2_regularization': 0.0001979509273391809}. Best is trial 21 with value: 0.4607609971269957.\n",
      "[I 2025-03-21 16:59:23,739] A new study created in memory with name: no-name-049e5343-2290-4d85-9558-4befa5498707\n"
     ]
    },
    {
     "name": "stdout",
     "output_type": "stream",
     "text": [
      "✅ Meilleur score R² (cross-val): 0.4607609971269957\n",
      "🏆 Meilleurs hyperparamètres : {'max_iter': 366, 'max_depth': 3, 'learning_rate': 0.010349523844108338, 'l2_regularization': 0.00010447656932113442}\n"
     ]
    },
    {
     "name": "stderr",
     "output_type": "stream",
     "text": [
      "[I 2025-03-21 16:59:25,290] Trial 0 finished with value: 0.670837130306668 and parameters: {'n_estimators': 185, 'max_depth': 29, 'min_samples_split': 6, 'min_samples_leaf': 4}. Best is trial 0 with value: 0.670837130306668.\n",
      "[I 2025-03-21 16:59:26,390] Trial 1 finished with value: 0.6490394900384397 and parameters: {'n_estimators': 122, 'max_depth': 28, 'min_samples_split': 6, 'min_samples_leaf': 1}. Best is trial 0 with value: 0.670837130306668.\n",
      "[I 2025-03-21 16:59:28,058] Trial 2 finished with value: 0.6708066378066377 and parameters: {'n_estimators': 217, 'max_depth': 26, 'min_samples_split': 10, 'min_samples_leaf': 5}. Best is trial 0 with value: 0.670837130306668.\n",
      "[I 2025-03-21 16:59:29,507] Trial 3 finished with value: 0.6619135563316236 and parameters: {'n_estimators': 168, 'max_depth': 17, 'min_samples_split': 8, 'min_samples_leaf': 2}. Best is trial 0 with value: 0.670837130306668.\n",
      "[I 2025-03-21 16:59:30,375] Trial 4 finished with value: 0.6420038447197062 and parameters: {'n_estimators': 65, 'max_depth': 30, 'min_samples_split': 2, 'min_samples_leaf': 1}. Best is trial 0 with value: 0.670837130306668.\n",
      "[I 2025-03-21 16:59:31,174] Trial 5 finished with value: 0.6634015818448591 and parameters: {'n_estimators': 73, 'max_depth': 19, 'min_samples_split': 8, 'min_samples_leaf': 2}. Best is trial 0 with value: 0.670837130306668.\n",
      "[I 2025-03-21 16:59:32,548] Trial 6 finished with value: 0.660435648501825 and parameters: {'n_estimators': 176, 'max_depth': 23, 'min_samples_split': 6, 'min_samples_leaf': 3}. Best is trial 0 with value: 0.670837130306668.\n",
      "[I 2025-03-21 16:59:34,223] Trial 7 finished with value: 0.6717334054834054 and parameters: {'n_estimators': 225, 'max_depth': 30, 'min_samples_split': 4, 'min_samples_leaf': 5}. Best is trial 7 with value: 0.6717334054834054.\n",
      "[I 2025-03-21 16:59:36,054] Trial 8 finished with value: 0.6637708962372828 and parameters: {'n_estimators': 261, 'max_depth': 16, 'min_samples_split': 6, 'min_samples_leaf': 2}. Best is trial 7 with value: 0.6717334054834054.\n",
      "[I 2025-03-21 16:59:37,372] Trial 9 finished with value: 0.6691012586852924 and parameters: {'n_estimators': 146, 'max_depth': 10, 'min_samples_split': 5, 'min_samples_leaf': 4}. Best is trial 7 with value: 0.6717334054834054.\n",
      "[I 2025-03-21 16:59:39,411] Trial 10 finished with value: 0.6728096587119696 and parameters: {'n_estimators': 293, 'max_depth': 4, 'min_samples_split': 3, 'min_samples_leaf': 5}. Best is trial 10 with value: 0.6728096587119696.\n",
      "[I 2025-03-21 16:59:41,507] Trial 11 finished with value: 0.6749689390907878 and parameters: {'n_estimators': 300, 'max_depth': 4, 'min_samples_split': 3, 'min_samples_leaf': 5}. Best is trial 11 with value: 0.6749689390907878.\n",
      "[I 2025-03-21 16:59:43,523] Trial 12 finished with value: 0.6744692528526562 and parameters: {'n_estimators': 297, 'max_depth': 3, 'min_samples_split': 2, 'min_samples_leaf': 5}. Best is trial 11 with value: 0.6749689390907878.\n",
      "[I 2025-03-21 16:59:45,523] Trial 13 finished with value: 0.6776530263620599 and parameters: {'n_estimators': 296, 'max_depth': 3, 'min_samples_split': 2, 'min_samples_leaf': 4}. Best is trial 13 with value: 0.6776530263620599.\n",
      "[I 2025-03-21 16:59:47,373] Trial 14 finished with value: 0.6717085819176156 and parameters: {'n_estimators': 255, 'max_depth': 8, 'min_samples_split': 4, 'min_samples_leaf': 4}. Best is trial 13 with value: 0.6776530263620599.\n",
      "[I 2025-03-21 16:59:49,357] Trial 15 finished with value: 0.676018675652079 and parameters: {'n_estimators': 260, 'max_depth': 9, 'min_samples_split': 3, 'min_samples_leaf': 4}. Best is trial 13 with value: 0.6776530263620599.\n",
      "[I 2025-03-21 16:59:51,123] Trial 16 finished with value: 0.6685679514229934 and parameters: {'n_estimators': 256, 'max_depth': 10, 'min_samples_split': 2, 'min_samples_leaf': 3}. Best is trial 13 with value: 0.6776530263620599.\n",
      "[I 2025-03-21 16:59:52,857] Trial 17 finished with value: 0.6773126038294106 and parameters: {'n_estimators': 221, 'max_depth': 7, 'min_samples_split': 3, 'min_samples_leaf': 4}. Best is trial 13 with value: 0.6776530263620599.\n",
      "[I 2025-03-21 16:59:54,507] Trial 18 finished with value: 0.6610306425600543 and parameters: {'n_estimators': 214, 'max_depth': 13, 'min_samples_split': 4, 'min_samples_leaf': 3}. Best is trial 13 with value: 0.6776530263620599.\n",
      "[I 2025-03-21 16:59:55,574] Trial 19 finished with value: 0.6744623697964034 and parameters: {'n_estimators': 105, 'max_depth': 6, 'min_samples_split': 8, 'min_samples_leaf': 3}. Best is trial 13 with value: 0.6776530263620599.\n",
      "[I 2025-03-21 16:59:57,373] Trial 20 finished with value: 0.6708521332775534 and parameters: {'n_estimators': 196, 'max_depth': 12, 'min_samples_split': 5, 'min_samples_leaf': 4}. Best is trial 13 with value: 0.6776530263620599.\n",
      "[I 2025-03-21 16:59:59,690] Trial 21 finished with value: 0.6778894012150314 and parameters: {'n_estimators': 274, 'max_depth': 7, 'min_samples_split': 3, 'min_samples_leaf': 4}. Best is trial 21 with value: 0.6778894012150314.\n",
      "[I 2025-03-21 17:00:01,857] Trial 22 finished with value: 0.6796401848618235 and parameters: {'n_estimators': 276, 'max_depth': 7, 'min_samples_split': 3, 'min_samples_leaf': 4}. Best is trial 22 with value: 0.6796401848618235.\n",
      "[I 2025-03-21 17:00:03,873] Trial 23 finished with value: 0.6776623437253689 and parameters: {'n_estimators': 275, 'max_depth': 6, 'min_samples_split': 2, 'min_samples_leaf': 4}. Best is trial 22 with value: 0.6796401848618235.\n",
      "[I 2025-03-21 17:00:05,974] Trial 24 finished with value: 0.6729493388264396 and parameters: {'n_estimators': 277, 'max_depth': 12, 'min_samples_split': 4, 'min_samples_leaf': 4}. Best is trial 22 with value: 0.6796401848618235.\n",
      "[I 2025-03-21 17:00:07,707] Trial 25 finished with value: 0.6712529390544095 and parameters: {'n_estimators': 237, 'max_depth': 7, 'min_samples_split': 3, 'min_samples_leaf': 3}. Best is trial 22 with value: 0.6796401848618235.\n",
      "[I 2025-03-21 17:00:09,740] Trial 26 finished with value: 0.6718747120060147 and parameters: {'n_estimators': 275, 'max_depth': 15, 'min_samples_split': 5, 'min_samples_leaf': 4}. Best is trial 22 with value: 0.6796401848618235.\n",
      "[I 2025-03-21 17:00:11,807] Trial 27 finished with value: 0.6744033901439364 and parameters: {'n_estimators': 278, 'max_depth': 6, 'min_samples_split': 3, 'min_samples_leaf': 5}. Best is trial 22 with value: 0.6796401848618235.\n",
      "[I 2025-03-21 17:00:13,589] Trial 28 finished with value: 0.6768717168685656 and parameters: {'n_estimators': 241, 'max_depth': 5, 'min_samples_split': 2, 'min_samples_leaf': 3}. Best is trial 22 with value: 0.6796401848618235.\n",
      "[I 2025-03-21 17:00:15,323] Trial 29 finished with value: 0.674486812906981 and parameters: {'n_estimators': 241, 'max_depth': 10, 'min_samples_split': 7, 'min_samples_leaf': 4}. Best is trial 22 with value: 0.6796401848618235.\n"
     ]
    },
    {
     "name": "stdout",
     "output_type": "stream",
     "text": [
      "✅ Best trial:\n",
      "  Value (score combiné) : 0.6796\n",
      "  Params : {'n_estimators': 276, 'max_depth': 7, 'min_samples_split': 3, 'min_samples_leaf': 4}\n"
     ]
    }
   ],
   "source": [
    "import optuna\n",
    "from sklearn.model_selection import cross_val_score\n",
    "from sklearn.ensemble import RandomForestClassifier\n",
    "from sklearn.ensemble import HistGradientBoostingRegressor\n",
    "\n",
    "# ⚠️ Utilise les mêmes features + preprocessor que précédemment\n",
    "from sklearn.pipeline import Pipeline\n",
    "\n",
    "# 🔁 Définir l'objective function pour Optuna pour le nombre de jeux\n",
    "def objective_regression(trial):\n",
    "    params = {\n",
    "        \"max_iter\": trial.suggest_int(\"max_iter\", 100, 1000),\n",
    "        \"max_depth\": trial.suggest_int(\"max_depth\", 3, 20),\n",
    "        \"learning_rate\": trial.suggest_float(\"learning_rate\", 0.01, 0.3, log=True),\n",
    "        \"l2_regularization\": trial.suggest_float(\"l2_regularization\", 1e-4, 1.0, log=True)\n",
    "    }\n",
    "\n",
    "    model = Pipeline([\n",
    "        (\"preprocessor\", preprocessor),\n",
    "        (\"reg\", HistGradientBoostingRegressor(random_state=42, **params))\n",
    "    ])\n",
    "\n",
    "    score = cross_val_score(model, Xg_train, yg_train, cv=5, scoring='r2').mean()\n",
    "    return score\n",
    "\n",
    "\n",
    "print(\"\\n🎯 Lancement de l'optimisation Optuna pour la régression...\")\n",
    "study = optuna.create_study(direction=\"maximize\")\n",
    "study.optimize(objective_regression, n_trials=30)\n",
    "\n",
    "print(\"✅ Meilleur score R² (cross-val):\", study.best_value)\n",
    "print(\"🏆 Meilleurs hyperparamètres :\", study.best_params)\n",
    "\n",
    "\n",
    "\n",
    "# 🔁 Définir l'objective function pour Optuna\n",
    "def objective(trial):\n",
    "    # Hyperparamètres à tester\n",
    "    n_estimators = trial.suggest_int(\"n_estimators\", 50, 300)\n",
    "    max_depth = trial.suggest_int(\"max_depth\", 3, 30)\n",
    "    min_samples_split = trial.suggest_int(\"min_samples_split\", 2, 10)\n",
    "    min_samples_leaf = trial.suggest_int(\"min_samples_leaf\", 1, 5)\n",
    "    \n",
    "    # Pipeline complet avec preprocessor\n",
    "    model = Pipeline([\n",
    "        (\"preprocessor\", preprocessor),\n",
    "        (\"clf\", RandomForestClassifier(\n",
    "            n_estimators=n_estimators,\n",
    "            max_depth=max_depth,\n",
    "            min_samples_split=min_samples_split,\n",
    "            min_samples_leaf=min_samples_leaf,\n",
    "            random_state=42,\n",
    "            n_jobs=-1\n",
    "        ))\n",
    "    ])\n",
    "    \n",
    "    # Evaluer ROC AUC et Accuracy\n",
    "    roc_auc = cross_val_score(model, X_train, y_train, cv=5, scoring=\"roc_auc\").mean()\n",
    "    accuracy = cross_val_score(model, X_train, y_train, cv=5, scoring=\"accuracy\").mean()\n",
    "    \n",
    "    # Tu peux prioriser une métrique ou faire une moyenne pondérée\n",
    "    score = (roc_auc + accuracy) / 2\n",
    "    return score\n",
    "\n",
    "# 🎯 Lancer l'optimisation\n",
    "study = optuna.create_study(direction=\"maximize\")\n",
    "study.optimize(objective, n_trials=30)\n",
    "\n",
    "# 🏆 Affichage des meilleurs hyperparamètres\n",
    "print(\"✅ Best trial:\")\n",
    "print(f\"  Value (score combiné) : {study.best_value:.4f}\")\n",
    "print(f\"  Params : {study.best_params}\")\n"
   ]
  },
  {
   "cell_type": "markdown",
   "id": "4fba6111",
   "metadata": {},
   "source": [
    "### Réentrainement du modèle avec les meilleurs paramètres"
   ]
  },
  {
   "cell_type": "code",
   "execution_count": null,
   "id": "9a388ba6",
   "metadata": {},
   "outputs": [
    {
     "ename": "TypeError",
     "evalue": "__init__() got an unexpected keyword argument 'n_estimators'",
     "output_type": "error",
     "traceback": [
      "\u001b[1;31m---------------------------------------------------------------------------\u001b[0m",
      "\u001b[1;31mTypeError\u001b[0m                                 Traceback (most recent call last)",
      "Cell \u001b[1;32mIn[13], line 22\u001b[0m\n\u001b[0;32m     17\u001b[0m best_params \u001b[38;5;241m=\u001b[39m study\u001b[38;5;241m.\u001b[39mbest_params\n\u001b[0;32m     19\u001b[0m \u001b[38;5;66;03m# Pipeline final\u001b[39;00m\n\u001b[0;32m     20\u001b[0m best_reg_model \u001b[38;5;241m=\u001b[39m Pipeline([\n\u001b[0;32m     21\u001b[0m     (\u001b[38;5;124m\"\u001b[39m\u001b[38;5;124mpreprocessor\u001b[39m\u001b[38;5;124m\"\u001b[39m, preprocessor),\n\u001b[1;32m---> 22\u001b[0m     (\u001b[38;5;124m\"\u001b[39m\u001b[38;5;124mreg\u001b[39m\u001b[38;5;124m\"\u001b[39m, HistGradientBoostingRegressor(\n\u001b[0;32m     23\u001b[0m         random_state\u001b[38;5;241m=\u001b[39m\u001b[38;5;241m42\u001b[39m,\n\u001b[0;32m     24\u001b[0m         \u001b[38;5;241m*\u001b[39m\u001b[38;5;241m*\u001b[39mbest_params\n\u001b[0;32m     25\u001b[0m     ))\n\u001b[0;32m     26\u001b[0m ])\n\u001b[0;32m     28\u001b[0m \u001b[38;5;66;03m# Entraînement\u001b[39;00m\n\u001b[0;32m     29\u001b[0m best_reg_model\u001b[38;5;241m.\u001b[39mfit(Xg_train, yg_train)\n",
      "\u001b[1;31mTypeError\u001b[0m: __init__() got an unexpected keyword argument 'n_estimators'"
     ]
    }
   ],
   "source": [
    "best_params = study.best_params\n",
    "\n",
    "final_model = Pipeline([\n",
    "    (\"preprocessor\", preprocessor),\n",
    "    (\"clf\", RandomForestClassifier(\n",
    "        **best_params,\n",
    "        random_state=42,\n",
    "        n_jobs=-1\n",
    "    ))\n",
    "])\n",
    "\n",
    "final_model.fit(X_train, y_train)\n",
    "joblib.dump(final_model, \"../models/tennis_win_predictor_optuna.pkl\")\n",
    "\n",
    "\n",
    "# Meilleurs paramètres\n",
    "best_params = study.best_params\n",
    "print(\"🧩 best_params retournés par Optuna :\", best_params)\n",
    "\n",
    "# ⚠️ Supprimer toute clé non utilisée par HistGradientBoostingRegressor\n",
    "accepted_params = ['max_iter', 'max_depth', 'learning_rate', 'l2_regularization']\n",
    "filtered_params = {k: v for k, v in best_params.items() if k in accepted_params}\n",
    "\n",
    "# Pipeline final\n",
    "best_reg_model = Pipeline([\n",
    "    (\"preprocessor\", preprocessor),\n",
    "    (\"reg\", HistGradientBoostingRegressor(\n",
    "        random_state=42,\n",
    "        **filtered_params\n",
    "    ))\n",
    "])\n",
    "\n",
    "# Entraînement\n",
    "best_reg_model.fit(Xg_train, yg_train)\n",
    "\n",
    "# Sauvegarde\n",
    "joblib.dump(best_reg_model, \"../models/tennis_total_games_predictor_optuna.pkl\")\n"
   ]
  },
  {
   "cell_type": "markdown",
   "id": "09d1a413",
   "metadata": {},
   "source": [
    "## Prédiction avec modèle optimisé"
   ]
  },
  {
   "cell_type": "code",
   "execution_count": null,
   "id": "534ea614",
   "metadata": {},
   "outputs": [],
   "source": [
    "## 11. Exemple avec features supplémentaires\n",
    "\n",
    "#probas = predict_match_proba(exemple_match)\n",
    "#print(\"\\n🎯 Prédiction du match :\")\n",
    "#for k, v in probas.items():\n",
    "#    print(f\"{k} : {v:.2%}\")\n",
    "\n",
    "probas = predict_match_proba(exemple_match, model_path=\"../models/tennis_win_predictor_optuna.pkl\")\n",
    "#print(\"\\n🎯 Prédiction du match avec modèle optimisé :\")\n",
    "#for k, v in probas.items():\n",
    "#    print(f\"{k} : {v:.2%}\")\n",
    "\n",
    "\n",
    "# 🔢 Prédiction total jeux\n",
    "#total_games = predict_total_games(exemple_match)\n",
    "total_games = predict_total_games(exemple_match, model_path=\"../models/tennis_total_games_predictor_optuna.pkl\")\n",
    "\n",
    "print(\"\\n🎯 Prédiction complète :\")\n",
    "for joueur, proba in probas.items():\n",
    "    print(f\"{joueur} : {proba:.2%}\")\n",
    "print(f\"🧮 Nombre total de jeux estimé : {total_games}\")"
   ]
  }
 ],
 "metadata": {
  "kernelspec": {
   "display_name": "Python 3",
   "language": "python",
   "name": "python3"
  },
  "language_info": {
   "codemirror_mode": {
    "name": "ipython",
    "version": 3
   },
   "file_extension": ".py",
   "mimetype": "text/x-python",
   "name": "python",
   "nbconvert_exporter": "python",
   "pygments_lexer": "ipython3",
   "version": "3.9.0"
  },
  "toc": {
   "base_numbering": 1,
   "nav_menu": {},
   "number_sections": true,
   "sideBar": true,
   "skip_h1_title": true,
   "title_cell": "Table of Contents",
   "title_sidebar": "Contents",
   "toc_cell": false,
   "toc_position": {
    "height": "calc(100% - 180px)",
    "left": "10px",
    "top": "150px",
    "width": "288px"
   },
   "toc_section_display": true,
   "toc_window_display": true
  }
 },
 "nbformat": 4,
 "nbformat_minor": 5
}
